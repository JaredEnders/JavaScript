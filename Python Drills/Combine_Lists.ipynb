{
 "cells": [
  {
   "cell_type": "code",
   "execution_count": 2,
   "metadata": {},
   "outputs": [],
   "source": [
    "# Combine the lists so that the result is a single list\n",
    "# with no duplciate values\n",
    "\n",
    "list1 = [\"a\", \"b\", \"c\"]\n",
    "list2 = [\"a\", \"e\", \"i\", \"o\", \"u\"]"
   ]
  },
  {
   "cell_type": "code",
   "execution_count": 3,
   "metadata": {},
   "outputs": [
    {
     "name": "stdout",
     "output_type": "stream",
     "text": [
      "['a', 'b', 'c', 'i', 'u', 'o', 'e']\n"
     ]
    }
   ],
   "source": [
    "set1 = set(list1)\n",
    "set2 = set(list2)\n",
    "\n",
    "remove_dups = list(set2 - set1)\n",
    "combined_list = list1 + remove_dups\n",
    "\n",
    "print(combined_list)"
   ]
  }
 ],
 "metadata": {
  "kernelspec": {
   "display_name": "Python 3",
   "language": "python",
   "name": "python3"
  },
  "language_info": {
   "codemirror_mode": {
    "name": "ipython",
    "version": 3
   },
   "file_extension": ".py",
   "mimetype": "text/x-python",
   "name": "python",
   "nbconvert_exporter": "python",
   "pygments_lexer": "ipython3",
   "version": "3.8.3"
  }
 },
 "nbformat": 4,
 "nbformat_minor": 4
}

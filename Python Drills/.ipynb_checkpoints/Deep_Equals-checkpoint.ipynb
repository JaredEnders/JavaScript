{
 "cells": [
  {
   "cell_type": "code",
   "execution_count": 1,
   "metadata": {},
   "outputs": [],
   "source": [
    "# Write a function that determines if two lists of numbers are equal\n",
    "\n",
    "a = [1, 2, 3]\n",
    "b = [1, 2, 3]\n",
    "c = [1, 2, 3, 4]\n",
    "d = [3, 2, 1]\n",
    "e = [1, 1, 2, 3]"
   ]
  },
  {
   "cell_type": "code",
   "execution_count": 7,
   "metadata": {},
   "outputs": [
    {
     "name": "stdout",
     "output_type": "stream",
     "text": [
      "List a is equal to list b\n",
      "List a is not equal to list c\n",
      "List a is equal to list d\n",
      "List a is not equal to list e\n"
     ]
    }
   ],
   "source": [
    "# Sorting all the lists in ascending order\n",
    "a.sort()\n",
    "b.sort()\n",
    "c.sort()\n",
    "d.sort()\n",
    "e.sort()\n",
    "\n",
    "# Using == to check if all lists are equal to list 'a'\n",
    "if a == b:\n",
    "    print (\"List a is equal to list b\")\n",
    "else:\n",
    "    print (\"List a is not equal to list b\")\n",
    "    \n",
    "if a == c:\n",
    "    print (\"List a is equal to list c\")\n",
    "else:\n",
    "    print (\"List a is not equal to list c\")\n",
    "\n",
    "if a == d:\n",
    "    print (\"List a is equal to list d\")\n",
    "else:\n",
    "    print (\"List a is not equal to list d\")\n",
    "\n",
    "if a == e:\n",
    "    print (\"List a is equal to list e\")\n",
    "else:\n",
    "    print (\"List a is not equal to list e\")"
   ]
  }
 ],
 "metadata": {
  "kernelspec": {
   "display_name": "Python 3",
   "language": "python",
   "name": "python3"
  },
  "language_info": {
   "codemirror_mode": {
    "name": "ipython",
    "version": 3
   },
   "file_extension": ".py",
   "mimetype": "text/x-python",
   "name": "python",
   "nbconvert_exporter": "python",
   "pygments_lexer": "ipython3",
   "version": "3.8.3"
  }
 },
 "nbformat": 4,
 "nbformat_minor": 4
}
